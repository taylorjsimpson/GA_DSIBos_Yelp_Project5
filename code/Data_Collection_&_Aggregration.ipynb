{
 "cells": [
  {
   "cell_type": "markdown",
   "metadata": {},
   "source": [
    "# Data Collection & Aggregation\n",
    "\n",
    "_Authors: Colleen Kenney, Jerel Novick_\n",
    "\n",
    "---\n"
   ]
  },
  {
   "cell_type": "markdown",
   "metadata": {},
   "source": [
    "## Contents\n",
    "\n",
    "[1. Collecting Individual Businesses in each city](#1.-Collecting-Individual-Businesses-in-each-city) <br>\n",
    "[2. Collecting Affluence Data for each city](#2.-Collecting-Affluence-Data-for-each-city) <br>\n",
    "[3. Aggregating businesses by city](#3.-Aggregating-businesses-by-city)<br>"
   ]
  },
  {
   "cell_type": "markdown",
   "metadata": {},
   "source": [
    "### 1. Collecting Individual Businesses in each city"
   ]
  },
  {
   "cell_type": "code",
   "execution_count": 1,
   "metadata": {},
   "outputs": [],
   "source": [
    "import requests\n",
    "from bs4 import BeautifulSoup\n",
    "import pandas as pd\n",
    "from yelpapi import YelpAPI\n",
    "import time\n",
    "import regex as re\n",
    "from IPython.display import clear_output"
   ]
  },
  {
   "cell_type": "code",
   "execution_count": 2,
   "metadata": {},
   "outputs": [],
   "source": [
    "# https://gist.github.com/rugbyprof/76575b470b6772ce8fa0c49e23931d97\n",
    "\n",
    "states = {\"AL\":\"Alabama\",\"AK\":\"Alaska\",\"AZ\":\"Arizona\",\"AR\":\"Arkansas\",\"CA\":\"California\",\"CO\":\"Colorado\",\n",
    "          \"CT\":\"Connecticut\",\"DE\":\"Delaware\",\"FL\":\"Florida\",\"GA\":\"Georgia\",\"HI\":\"Hawaii\",\"ID\":\"Idaho\",\n",
    "          \"IL\":\"Illinois\",\"IN\":\"Indiana\",\"IA\":\"Iowa\",\"KS\":\"Kansas\",\"KY\":\"Kentucky\",\"LA\":\"Louisiana\",\n",
    "          \"ME\":\"Maine\",\"MD\":\"Maryland\",\"MA\":\"Massachusetts\",\"MI\":\"Michigan\",\"MN\":\"Minnesota\",\"MS\":\"Mississippi\",\n",
    "          \"MO\":\"Missouri\",\"MT\":\"Montana\",\"NE\":\"Nebraska\",\"NV\":\"Nevada\",\"NH\":\"New Hampshire\",\"NJ\":\"New Jersey\",\n",
    "          \"NM\":\"New Mexico\",\"NY\":\"New York\",\"NC\":\"North Carolina\",\"ND\":\"North Dakota\",\"OH\":\"Ohio\",\"OK\":\"Oklahoma\",\n",
    "          \"OR\":\"Oregon\",\"PA\":\"Pennsylvania\",\"RI\":\"Rhode Island\",\"SC\":\"South Carolina\",\"SD\":\"South Dakota\",\n",
    "          \"TN\":\"Tennessee\",\"TX\":\"Texas\",\"UT\":\"Utah\",\"VT\":\"Vermont\",\"VA\":\"Virginia\",\"WA\":\"Washington\",\n",
    "          \"WV\":\"West Virginia\",\"WI\":\"Wisconsin\",\"WY\":\"Wyoming\"}"
   ]
  },
  {
   "cell_type": "code",
   "execution_count": 3,
   "metadata": {},
   "outputs": [],
   "source": [
    "url = requests.get('https://en.wikipedia.org/wiki/List_of_largest_cities_of_U.S.'\n",
    "                           +'_states_and_territories_by_population').text\n",
    "\n",
    "soup = BeautifulSoup(url,'lxml')\n",
    "\n",
    "cities = []\n",
    "for items in soup.find('table', class_='wikitable').find_all('tr')[1::1]:\n",
    "    city = {}\n",
    "    data = items.find_all(['th','td'])\n",
    "    try:\n",
    "        state = data[0].a.text\n",
    "        most_populous_city = data[2].a.text\n",
    "    except IndexError:pass\n",
    "    city['state'] = state\n",
    "    city['most_populous_city'] = most_populous_city\n",
    "    city['city,state'] = most_populous_city + \", \" + state \n",
    "    cities.append(city)\n",
    "    \n",
    "city_df = pd.DataFrame(cities)\n",
    "city_df = city_df[city_df['state'].isin(list(states.values()))]\n",
    "city_df['abbrev_state'] = list(states.keys())\n",
    "city_df.to_csv('../data/cities.csv',index=False)"
   ]
  },
  {
   "cell_type": "code",
   "execution_count": 4,
   "metadata": {},
   "outputs": [],
   "source": [
    "cities = list(city_df['city,state'])"
   ]
  },
  {
   "cell_type": "code",
   "execution_count": 5,
   "metadata": {},
   "outputs": [],
   "source": [
    "# https://www.mikulskibartosz.name/how-to-display-a-progress-bar-in-jupyter-notebook/\n",
    "\n",
    "def update_progress(progress):\n",
    "    bar_length = 20\n",
    "    if isinstance(progress, int):\n",
    "        progress = float(progress)\n",
    "    if not isinstance(progress, float):\n",
    "        progress = 0\n",
    "    if progress < 0:\n",
    "        progress = 0\n",
    "    if progress >= 1:\n",
    "        progress = 1\n",
    "\n",
    "    block = int(round(bar_length * progress))\n",
    "\n",
    "    clear_output(wait = True)\n",
    "    text = \"Progress: [{0}] {1:.1f}%\".format( \"#\" * block + \"-\" * (bar_length - block), progress * 100)\n",
    "    print(text)"
   ]
  },
  {
   "cell_type": "code",
   "execution_count": 6,
   "metadata": {},
   "outputs": [],
   "source": [
    "## your yelp api key can be retrieved at https://www.yelp.com/fusion\n",
    "## this code will not work unless you fill in your_key with an api key\n",
    "\n",
    "yelp_api = YelpAPI(your_key)\n",
    "\n",
    "def gather_data(locations,category):\n",
    "\n",
    "    rows = []\n",
    "    for location in range(len(locations)):\n",
    "\n",
    "        counter = 1\n",
    "        category_in_state = []\n",
    "\n",
    "        for i in range(10):\n",
    "            response = yelp_api.search_query(categories = category,location=locations[location],\n",
    "                                                 sort_by='review_count', limit=50, offset=counter)\n",
    "            counter += 50\n",
    "\n",
    "            for i in range(len(response['businesses'])):\n",
    "                row_dict = {}\n",
    "                row_dict['name'] = response['businesses'][i].get('name')\n",
    "                row_dict['state'] = response['businesses'][i].get('location')['state']\n",
    "                row_dict['city'] = response['businesses'][i].get('location')['city']\n",
    "                row_dict['price'] = response['businesses'][i].get('price')\n",
    "                row_dict['review_count'] = response['businesses'][i].get('review_count')\n",
    "                row_dict['rating'] = response['businesses'][i].get('rating')\n",
    "                row_dict['category'] = category\n",
    "                category_in_state.append(row_dict)\n",
    "                rows.append(row_dict)\n",
    "        \n",
    "        time.sleep(3)\n",
    "        update_progress((location+1)/len(locations))\n",
    "        print(f\"{len(category_in_state)} Total {category} collected in {locations[location]}\")\n",
    "        \n",
    "    df = pd.DataFrame(rows).drop_duplicates()\n",
    "    df = df[df['state'].isin(list(states.keys()))].dropna(subset=['price'])\n",
    "    df.to_csv(f\"../data/individual_{category}.csv\",index=False)\n",
    "    \n",
    "    return df"
   ]
  },
  {
   "cell_type": "markdown",
   "metadata": {
    "scrolled": false
   },
   "source": [
    "```restaurants = gather_data(cities,'restaurants')```"
   ]
  },
  {
   "cell_type": "markdown",
   "metadata": {},
   "source": [
    "```hotels = gather_data(cities,'hotelstravel')```"
   ]
  },
  {
   "cell_type": "markdown",
   "metadata": {},
   "source": [
    "```nightlife = gather_data(cities,'nightlife')```"
   ]
  },
  {
   "cell_type": "markdown",
   "metadata": {},
   "source": [
    "```beauty = gather_data(cities,'beautysvc')```"
   ]
  },
  {
   "cell_type": "markdown",
   "metadata": {},
   "source": [
    "```shopping = gather_data(cities,'shopping')```"
   ]
  },
  {
   "cell_type": "markdown",
   "metadata": {},
   "source": [
    "## 2. Collecting Affluence Data for each city"
   ]
  },
  {
   "cell_type": "code",
   "execution_count": 7,
   "metadata": {},
   "outputs": [],
   "source": [
    "cities = pd.read_csv('../data/cities.csv')"
   ]
  },
  {
   "cell_type": "code",
   "execution_count": 8,
   "metadata": {},
   "outputs": [],
   "source": [
    "cities_for_scrape = []\n",
    "for i in list(cities['city,state']):\n",
    "    cities_for_scrape.append(i.replace(',','').replace(' ','-'))\n",
    "    \n",
    "cities_for_scrape[11] = str('Boise-City-Idaho')\n",
    "cities_for_scrape[41] = str('Nashville-Davidson-Tennessee')\n",
    "cities_for_scrape[31] = str('New-York-New-York')"
   ]
  },
  {
   "cell_type": "code",
   "execution_count": 9,
   "metadata": {},
   "outputs": [],
   "source": [
    "#Scraping city-data.com\n",
    "#Written with assistance from Roy Kim - GA Denver\n",
    "def get_income(list_of_cities_formatted,city_df):\n",
    "    df = pd.DataFrame(columns = ['city','income','state','abbrev_state'])\n",
    "    for c in list_of_cities_formatted:\n",
    "        url = 'http://www.city-data.com/city/'+c+'.html'\n",
    "        res = requests.get(url)\n",
    "        soup = BeautifulSoup(res.content, 'lxml')\n",
    "        income = soup.find('section', {'class' : 'median-income'}).find('div', {'class' : 'hgraph'}).text\n",
    "        income = income.split(':')[1].replace('$', '')\n",
    "        income = re.findall('[^A-Z]*',income)[0].replace(',','').replace('$','')\n",
    "        income = int(income)\n",
    "        city = soup.find('section', {'class' : 'median-income'}).find('div', {'class' : 'hgraph'}).text\n",
    "        city = city.split(':')[0]\n",
    "        state = city_df['state'][list_of_cities_formatted.index(c)]\n",
    "        abbrev_state = city_df['abbrev_state'][list_of_cities_formatted.index(c)]\n",
    "        df = df.append({'city':city, 'income':income, 'state':state, 'abbrev_state':abbrev_state}, ignore_index=True)\n",
    "    df.to_csv('../data/income.csv',index=False)\n",
    "    return df"
   ]
  },
  {
   "cell_type": "markdown",
   "metadata": {},
   "source": [
    "```income = get_income(cities_for_scrape,cities)```"
   ]
  },
  {
   "cell_type": "markdown",
   "metadata": {},
   "source": [
    "## 3. Aggregating businesses by city"
   ]
  },
  {
   "cell_type": "code",
   "execution_count": 10,
   "metadata": {},
   "outputs": [],
   "source": [
    "restaurants = pd.read_csv('../data/individual_restaurants.csv')\n",
    "shopping = pd.read_csv('../data/individual_shopping.csv')\n",
    "beauty = pd.read_csv('../data/individual_beautysvc.csv')\n",
    "hotels = pd.read_csv('../data/individual_hotelstravel.csv')\n",
    "nightlife = pd.read_csv('../data/individual_nightlife.csv')\n",
    "cities = pd.read_csv('../data/cities.csv')\n",
    "income = pd.read_csv('../data/income.csv')"
   ]
  },
  {
   "cell_type": "code",
   "execution_count": 11,
   "metadata": {},
   "outputs": [],
   "source": [
    "def individual_to_agg(business_df,income_df,name_of_df):\n",
    "    \n",
    "    rows = []\n",
    "    \n",
    "    for row in business_df['state'].unique():\n",
    "        row_dict = {}\n",
    "        row_dict['abbrev_state'] = row\n",
    "        row_dict['one_dollar'] = len(business_df[(business_df['price'] == '$') & (business_df['state'] == row)])\n",
    "        row_dict['two_dollar'] = len(business_df[(business_df['price'] == '$$') & (business_df['state'] == row)])\n",
    "        row_dict['three_dollar']  = len(business_df[(business_df['price'] == '$$$') & (business_df['state'] == row)])\n",
    "        row_dict['four_dollar'] = len(business_df[(business_df['price'] == '$$$$') & (business_df['state'] == row)])\n",
    "        row_dict['average_review_count_one_dollar'] = business_df[(business_df['state'] == row)&\n",
    "                                                         (business_df['price'] == '$')]['review_count'].mean()\n",
    "        row_dict['average_review_count_two_dollar'] = business_df[(business_df['state'] == row)&\n",
    "                                                         (business_df['price'] == '$$')]['review_count'].mean()\n",
    "        row_dict['average_review_count_three_dollar'] = business_df[(business_df['state'] == row)&\n",
    "                                                         (business_df['price'] == '$$$')]['review_count'].mean()\n",
    "        row_dict['average_review_count_four_dollar'] = business_df[(business_df['state'] == row)&\n",
    "                                                         (business_df['price'] == '$$$$')]['review_count'].mean()\n",
    "        row_dict['average_rating_one_dollar'] = business_df[(business_df['state'] == row) &\n",
    "                                                  (business_df['price'] == '$')]['rating'].mean()\n",
    "        row_dict['average_rating_two_dollar'] = business_df[(business_df['state'] == row) &\n",
    "                                                  (business_df['price'] == '$$')]['rating'].mean()\n",
    "        row_dict['average_rating_three_dollar'] = business_df[(business_df['state'] == row) &\n",
    "                                                  (business_df['price'] == '$$$')]['rating'].mean()\n",
    "        row_dict['average_rating_four_dollar'] = business_df[(business_df['state'] == row) &\n",
    "                                                  (business_df['price'] == '$$$$')]['rating'].mean()\n",
    "        row_dict['city_median_household_income'] = income_df[income_df['abbrev_state'] == row]['income'].mean()\n",
    "        rows.append(row_dict)\n",
    "    \n",
    "    agg_df = pd.merge(pd.DataFrame(rows),income[['abbrev_state','city']],on='abbrev_state', how='left')\n",
    "    agg_df.fillna(0,inplace=True)\n",
    "    agg_df.to_csv(f\"../data/aggregate_{name_of_df}.csv\",index=False)\n",
    "    return agg_df"
   ]
  },
  {
   "cell_type": "code",
   "execution_count": 12,
   "metadata": {},
   "outputs": [],
   "source": [
    "restaurants_agg = individual_to_agg(restaurants,income,'restaurants')\n",
    "shopping_agg = individual_to_agg(shopping,income,'shopping')\n",
    "beauty_agg = individual_to_agg(beauty,income,'beauty')\n",
    "hotels_agg = individual_to_agg(hotels,income,'hotels')\n",
    "nightlife_agg = individual_to_agg(nightlife,income,'nightlife')"
   ]
  }
 ],
 "metadata": {
  "kernelspec": {
   "display_name": "Python 3",
   "language": "python",
   "name": "python3"
  },
  "language_info": {
   "codemirror_mode": {
    "name": "ipython",
    "version": 3
   },
   "file_extension": ".py",
   "mimetype": "text/x-python",
   "name": "python",
   "nbconvert_exporter": "python",
   "pygments_lexer": "ipython3",
   "version": "3.6.8"
  }
 },
 "nbformat": 4,
 "nbformat_minor": 2
}
