{
 "cells": [
  {
   "cell_type": "markdown",
   "metadata": {},
   "source": [
    "# Initial Supervised Learning Modeling\n",
    "\n",
    "_Authors: Taylor Simpson_\n",
    "\n",
    "---"
   ]
  },
  {
   "cell_type": "markdown",
   "metadata": {},
   "source": [
    "## Contents\n",
    "\n",
    "[1. Data Preparation for Beauty Yelp Category](#1.-Data-Preparation) <br>\n",
    "[2. Pre-Processing and Modeling for Beauty Yelp Category](#2.-Pre-Processing-and-Modeling) <br>\n",
    "[3. Conceptual Understanding and Evaluation for Beauty Yelp Category](#3.-Evaluation-and-Conceptual-Understanding) <br>\n",
    "[4. Hotels Yelp Category](#4.-Hotels-Yelp-Category)<br>\n",
    "[5. Nightlife Yelp Category](#5.-Nightlife-Yelp-Category)<br>\n",
    "[6. Restaurants Yelp Category](#6.-Restaurants-Yelp-Category)<br>\n",
    "[7. Shopping Yelp Category](#7.-Shopping-Yelp-Category)<br>\n",
    "\n",
    "\n"
   ]
  },
  {
   "cell_type": "markdown",
   "metadata": {},
   "source": [
    "### 1. Data Preparation"
   ]
  },
  {
   "cell_type": "code",
   "execution_count": 27,
   "metadata": {},
   "outputs": [],
   "source": [
    "from scipy import stats\n",
    "import numpy as np\n",
    "import pandas as pd\n",
    "import numpy as np\n",
    "from scipy.stats import zscore\n",
    "from sklearn.model_selection import train_test_split\n",
    "import numpy as np\n",
    "from sklearn.linear_model import LinearRegression\n",
    "import statsmodels.api as sm\n",
    "import matplotlib.pyplot as plt"
   ]
  },
  {
   "cell_type": "code",
   "execution_count": 15,
   "metadata": {},
   "outputs": [],
   "source": [
    "#Read in Yelp Beauty Data CSV\n",
    "beauty = pd.read_csv('../data/aggregate_beauty.csv')"
   ]
  },
  {
   "cell_type": "markdown",
   "metadata": {},
   "source": [
    "### 2. Pre-Processing and Modeling"
   ]
  },
  {
   "cell_type": "code",
   "execution_count": 16,
   "metadata": {},
   "outputs": [],
   "source": [
    "#Set X and Y variables \n",
    "X = beauty[['one_dollar', 'two_dollar', 'three_dollar', 'four_dollar']]\n",
    "y = beauty['city_median_household_income']"
   ]
  },
  {
   "cell_type": "code",
   "execution_count": 17,
   "metadata": {},
   "outputs": [],
   "source": [
    "#Train/test split\n",
    "X_train, X_test, y_train, y_test = train_test_split(X, y, test_size=0.3)"
   ]
  },
  {
   "cell_type": "code",
   "execution_count": 18,
   "metadata": {},
   "outputs": [],
   "source": [
    "#Instantiate Beauty Linear Regression Model(BM)\n",
    "beauty_model = LinearRegression()"
   ]
  },
  {
   "cell_type": "code",
   "execution_count": 19,
   "metadata": {},
   "outputs": [
    {
     "data": {
      "text/plain": [
       "LinearRegression(copy_X=True, fit_intercept=True, n_jobs=None, normalize=False)"
      ]
     },
     "execution_count": 19,
     "metadata": {},
     "output_type": "execute_result"
    }
   ],
   "source": [
    "#Fit BM\n",
    "beauty_model.fit(X_train, y_train)"
   ]
  },
  {
   "cell_type": "markdown",
   "metadata": {},
   "source": [
    "### 3. Evaluation and Conceptual Understanding"
   ]
  },
  {
   "cell_type": "code",
   "execution_count": 28,
   "metadata": {},
   "outputs": [
    {
     "data": {
      "text/plain": [
       "0.2228735866827779"
      ]
     },
     "execution_count": 28,
     "metadata": {},
     "output_type": "execute_result"
    }
   ],
   "source": [
    "#Evaluate BM - not good!\n",
    "beauty_model.score(X_train, y_train)"
   ]
  },
  {
   "cell_type": "code",
   "execution_count": 21,
   "metadata": {},
   "outputs": [],
   "source": [
    "#Set predictions\n",
    "y_predict = beauty_model.predict(X_test)"
   ]
  },
  {
   "cell_type": "code",
   "execution_count": 29,
   "metadata": {},
   "outputs": [
    {
     "data": {
      "text/plain": [
       "-0.08773371599120217"
      ]
     },
     "execution_count": 29,
     "metadata": {},
     "output_type": "execute_result"
    }
   ],
   "source": [
    "#Evaluate predicts for BM - not good \n",
    "beauty_model.score(X_test, y_test)"
   ]
  },
  {
   "cell_type": "code",
   "execution_count": 23,
   "metadata": {},
   "outputs": [
    {
     "data": {
      "text/plain": [
       "array([-185.41348708,   71.27210145, -150.26990788, -570.84890385])"
      ]
     },
     "execution_count": 23,
     "metadata": {},
     "output_type": "execute_result"
    }
   ],
   "source": [
    "#Evaluate BM coefficients - not much connection between them. \n",
    "beauty_model.coef_"
   ]
  },
  {
   "cell_type": "code",
   "execution_count": 30,
   "metadata": {},
   "outputs": [
    {
     "data": {
      "text/plain": [
       "Text(0.5, 0, 'Beauty Hotels')"
      ]
     },
     "execution_count": 30,
     "metadata": {},
     "output_type": "execute_result"
    },
    {
     "data": {
      "image/png": "[encoded data removed]",
      "text/plain": [
       "<Figure size 432x288 with 1 Axes>"
      ]
     },
     "metadata": {
      "needs_background": "light"
     },
     "output_type": "display_data"
    }
   ],
   "source": [
    "#Plotted Actual vs Predictions\n",
    "plt.scatter(y_predict, y_test)\n",
    "plt.title('Beauty vs Median Household Income')\n",
    "# y label\n",
    "plt.ylabel('Median Household Income')\n",
    "# x label\n",
    "plt.xlabel('Beauty Hotels')"
   ]
  },
  {
   "cell_type": "code",
   "execution_count": 31,
   "metadata": {},
   "outputs": [
    {
     "data": {
      "text/html": [
       "<table class=\"simpletable\">\n",
       "<caption>OLS Regression Results</caption>\n",
       "<tr>\n",
       "  <th>Dep. Variable:</th>    <td>city_median_household_income</td> <th>  R-squared:         </th> <td>   0.868</td>\n",
       "</tr>\n",
       "<tr>\n",
       "  <th>Model:</th>                         <td>OLS</td>             <th>  Adj. R-squared:    </th> <td>   0.851</td>\n",
       "</tr>\n",
       "<tr>\n",
       "  <th>Method:</th>                   <td>Least Squares</td>        <th>  F-statistic:       </th> <td>   50.90</td>\n",
       "</tr>\n",
       "<tr>\n",
       "  <th>Date:</th>                   <td>Thu, 01 Aug 2019</td>       <th>  Prob (F-statistic):</th> <td>3.43e-13</td>\n",
       "</tr>\n",
       "<tr>\n",
       "  <th>Time:</th>                       <td>18:29:28</td>           <th>  Log-Likelihood:    </th> <td> -394.42</td>\n",
       "</tr>\n",
       "<tr>\n",
       "  <th>No. Observations:</th>            <td>    35</td>            <th>  AIC:               </th> <td>   796.8</td>\n",
       "</tr>\n",
       "<tr>\n",
       "  <th>Df Residuals:</th>                <td>    31</td>            <th>  BIC:               </th> <td>   803.1</td>\n",
       "</tr>\n",
       "<tr>\n",
       "  <th>Df Model:</th>                    <td>     4</td>            <th>                     </th>     <td> </td>   \n",
       "</tr>\n",
       "<tr>\n",
       "  <th>Covariance Type:</th>            <td>nonrobust</td>          <th>                     </th>     <td> </td>   \n",
       "</tr>\n",
       "</table>\n",
       "<table class=\"simpletable\">\n",
       "<tr>\n",
       "        <td></td>          <th>coef</th>     <th>std err</th>      <th>t</th>      <th>P>|t|</th>  <th>[0.025</th>    <th>0.975]</th>  \n",
       "</tr>\n",
       "<tr>\n",
       "  <th>one_dollar</th>   <td>  151.6814</td> <td>  236.911</td> <td>    0.640</td> <td> 0.527</td> <td> -331.502</td> <td>  634.865</td>\n",
       "</tr>\n",
       "<tr>\n",
       "  <th>two_dollar</th>   <td>  126.8721</td> <td>   47.582</td> <td>    2.666</td> <td> 0.012</td> <td>   29.828</td> <td>  223.916</td>\n",
       "</tr>\n",
       "<tr>\n",
       "  <th>three_dollar</th> <td> -151.1850</td> <td>  371.288</td> <td>   -0.407</td> <td> 0.687</td> <td> -908.432</td> <td>  606.062</td>\n",
       "</tr>\n",
       "<tr>\n",
       "  <th>four_dollar</th>  <td> 1645.2541</td> <td> 1179.526</td> <td>    1.395</td> <td> 0.173</td> <td> -760.406</td> <td> 4050.914</td>\n",
       "</tr>\n",
       "</table>\n",
       "<table class=\"simpletable\">\n",
       "<tr>\n",
       "  <th>Omnibus:</th>       <td> 4.324</td> <th>  Durbin-Watson:     </th> <td>   1.630</td>\n",
       "</tr>\n",
       "<tr>\n",
       "  <th>Prob(Omnibus):</th> <td> 0.115</td> <th>  Jarque-Bera (JB):  </th> <td>   3.267</td>\n",
       "</tr>\n",
       "<tr>\n",
       "  <th>Skew:</th>          <td> 0.739</td> <th>  Prob(JB):          </th> <td>   0.195</td>\n",
       "</tr>\n",
       "<tr>\n",
       "  <th>Kurtosis:</th>      <td> 3.231</td> <th>  Cond. No.          </th> <td>    109.</td>\n",
       "</tr>\n",
       "</table><br/><br/>Warnings:<br/>[1] Standard Errors assume that the covariance matrix of the errors is correctly specified."
      ],
      "text/plain": [
       "<class 'statsmodels.iolib.summary.Summary'>\n",
       "\"\"\"\n",
       "                                 OLS Regression Results                                 \n",
       "========================================================================================\n",
       "Dep. Variable:     city_median_household_income   R-squared:                       0.868\n",
       "Model:                                      OLS   Adj. R-squared:                  0.851\n",
       "Method:                           Least Squares   F-statistic:                     50.90\n",
       "Date:                          Thu, 01 Aug 2019   Prob (F-statistic):           3.43e-13\n",
       "Time:                                  18:29:28   Log-Likelihood:                -394.42\n",
       "No. Observations:                            35   AIC:                             796.8\n",
       "Df Residuals:                                31   BIC:                             803.1\n",
       "Df Model:                                     4                                         \n",
       "Covariance Type:                      nonrobust                                         \n",
       "================================================================================\n",
       "                   coef    std err          t      P>|t|      [0.025      0.975]\n",
       "--------------------------------------------------------------------------------\n",
       "one_dollar     151.6814    236.911      0.640      0.527    -331.502     634.865\n",
       "two_dollar     126.8721     47.582      2.666      0.012      29.828     223.916\n",
       "three_dollar  -151.1850    371.288     -0.407      0.687    -908.432     606.062\n",
       "four_dollar   1645.2541   1179.526      1.395      0.173    -760.406    4050.914\n",
       "==============================================================================\n",
       "Omnibus:                        4.324   Durbin-Watson:                   1.630\n",
       "Prob(Omnibus):                  0.115   Jarque-Bera (JB):                3.267\n",
       "Skew:                           0.739   Prob(JB):                        0.195\n",
       "Kurtosis:                       3.231   Cond. No.                         109.\n",
       "==============================================================================\n",
       "\n",
       "Warnings:\n",
       "[1] Standard Errors assume that the covariance matrix of the errors is correctly specified.\n",
       "\"\"\""
      ]
     },
     "execution_count": 31,
     "metadata": {},
     "output_type": "execute_result"
    }
   ],
   "source": [
    "#Ran summary stats for BM predicts - 3/4 extremely high P-values shows that we are failing to reject the null hypothesis that there is no statistically significant effect of our X variables on Neighborhood Affluence\n",
    "beauty_model_sum = sm.OLS(y_train, X_train).fit()\n",
    "\n",
    "# Print out the statistics\n",
    "beauty_model_sum.summary()"
   ]
  },
  {
   "cell_type": "markdown",
   "metadata": {},
   "source": [
    "### 4. Hotels Yelp Category "
   ]
  },
  {
   "cell_type": "code",
   "execution_count": 37,
   "metadata": {},
   "outputs": [
    {
     "name": "stdout",
     "output_type": "stream",
     "text": [
      "0.13983707774131482\n",
      "0.10823083984568517\n",
      "[  -81.869397      24.76295684   330.6970053  -1608.29881521]\n"
     ]
    },
    {
     "data": {
      "text/plain": [
       "Text(0.5, 0, 'Yelp Hotels')"
      ]
     },
     "execution_count": 37,
     "metadata": {},
     "output_type": "execute_result"
    },
    {
     "data": {
      "image/png": "[encoded data removed]",
      "text/plain": [
       "<Figure size 432x288 with 1 Axes>"
      ]
     },
     "metadata": {
      "needs_background": "light"
     },
     "output_type": "display_data"
    }
   ],
   "source": [
    "#Read in CSV, Set X and Y variables, train/test split, instantiate model, fit modelhotels\n",
    "hotel_model = LinearRegression()\n",
    "Xh = hotels[['one_dollar', 'two_dollar', 'three_dollar', 'four_dollar']]\n",
    "yh = hotels['city_median_household_income']\n",
    "X_train_h, X_test_h, y_train_h, y_test_h = train_test_split(Xh, yh, test_size=0.3)\n",
    "hotel_model.fit(X_train_h, y_train_h)\n",
    "print(hotel_model.score(X_train_h, y_train_h))\n",
    "y_predict_h = hotel_model.predict(X_test_h)\n",
    "print(hotel_model.score(X_test_h, y_test_h))\n",
    "print(hotel_model.coef_)\n",
    "import matplotlib.pyplot as plt\n",
    "plt.scatter(y_predict_h, y_test_h)\n",
    "plt.title('Hotels vs Median Household Income')\n",
    "# y label\n",
    "plt.ylabel('Median Household Income')\n",
    "# x label\n",
    "plt.xlabel('Yelp Hotels')\n",
    "#Evaluated model scores - both weak\n",
    "#Evaluated coefficients - little connection between all 4. "
   ]
  },
  {
   "cell_type": "code",
   "execution_count": 38,
   "metadata": {},
   "outputs": [
    {
     "data": {
      "text/html": [
       "<table class=\"simpletable\">\n",
       "<caption>OLS Regression Results</caption>\n",
       "<tr>\n",
       "  <th>Dep. Variable:</th>    <td>city_median_household_income</td> <th>  R-squared:         </th> <td>   0.776</td>\n",
       "</tr>\n",
       "<tr>\n",
       "  <th>Model:</th>                         <td>OLS</td>             <th>  Adj. R-squared:    </th> <td>   0.748</td>\n",
       "</tr>\n",
       "<tr>\n",
       "  <th>Method:</th>                   <td>Least Squares</td>        <th>  F-statistic:       </th> <td>   26.92</td>\n",
       "</tr>\n",
       "<tr>\n",
       "  <th>Date:</th>                   <td>Thu, 01 Aug 2019</td>       <th>  Prob (F-statistic):</th> <td>1.07e-09</td>\n",
       "</tr>\n",
       "<tr>\n",
       "  <th>Time:</th>                       <td>18:31:57</td>           <th>  Log-Likelihood:    </th> <td> -404.21</td>\n",
       "</tr>\n",
       "<tr>\n",
       "  <th>No. Observations:</th>            <td>    35</td>            <th>  AIC:               </th> <td>   816.4</td>\n",
       "</tr>\n",
       "<tr>\n",
       "  <th>Df Residuals:</th>                <td>    31</td>            <th>  BIC:               </th> <td>   822.6</td>\n",
       "</tr>\n",
       "<tr>\n",
       "  <th>Df Model:</th>                    <td>     4</td>            <th>                     </th>     <td> </td>   \n",
       "</tr>\n",
       "<tr>\n",
       "  <th>Covariance Type:</th>            <td>nonrobust</td>          <th>                     </th>     <td> </td>   \n",
       "</tr>\n",
       "</table>\n",
       "<table class=\"simpletable\">\n",
       "<tr>\n",
       "        <td></td>          <th>coef</th>     <th>std err</th>      <th>t</th>      <th>P>|t|</th>  <th>[0.025</th>    <th>0.975]</th>  \n",
       "</tr>\n",
       "<tr>\n",
       "  <th>one_dollar</th>   <td>  629.8177</td> <td>  720.498</td> <td>    0.874</td> <td> 0.389</td> <td> -839.648</td> <td> 2099.284</td>\n",
       "</tr>\n",
       "<tr>\n",
       "  <th>two_dollar</th>   <td>  172.0327</td> <td>  178.617</td> <td>    0.963</td> <td> 0.343</td> <td> -192.258</td> <td>  536.323</td>\n",
       "</tr>\n",
       "<tr>\n",
       "  <th>three_dollar</th> <td>  518.6844</td> <td>  504.275</td> <td>    1.029</td> <td> 0.312</td> <td> -509.791</td> <td> 1547.159</td>\n",
       "</tr>\n",
       "<tr>\n",
       "  <th>four_dollar</th>  <td> -999.0252</td> <td> 2980.146</td> <td>   -0.335</td> <td> 0.740</td> <td>-7077.074</td> <td> 5079.023</td>\n",
       "</tr>\n",
       "</table>\n",
       "<table class=\"simpletable\">\n",
       "<tr>\n",
       "  <th>Omnibus:</th>       <td> 1.959</td> <th>  Durbin-Watson:     </th> <td>   1.087</td>\n",
       "</tr>\n",
       "<tr>\n",
       "  <th>Prob(Omnibus):</th> <td> 0.375</td> <th>  Jarque-Bera (JB):  </th> <td>   1.798</td>\n",
       "</tr>\n",
       "<tr>\n",
       "  <th>Skew:</th>          <td> 0.469</td> <th>  Prob(JB):          </th> <td>   0.407</td>\n",
       "</tr>\n",
       "<tr>\n",
       "  <th>Kurtosis:</th>      <td> 2.404</td> <th>  Cond. No.          </th> <td>    88.6</td>\n",
       "</tr>\n",
       "</table><br/><br/>Warnings:<br/>[1] Standard Errors assume that the covariance matrix of the errors is correctly specified."
      ],
      "text/plain": [
       "<class 'statsmodels.iolib.summary.Summary'>\n",
       "\"\"\"\n",
       "                                 OLS Regression Results                                 \n",
       "========================================================================================\n",
       "Dep. Variable:     city_median_household_income   R-squared:                       0.776\n",
       "Model:                                      OLS   Adj. R-squared:                  0.748\n",
       "Method:                           Least Squares   F-statistic:                     26.92\n",
       "Date:                          Thu, 01 Aug 2019   Prob (F-statistic):           1.07e-09\n",
       "Time:                                  18:31:57   Log-Likelihood:                -404.21\n",
       "No. Observations:                            35   AIC:                             816.4\n",
       "Df Residuals:                                31   BIC:                             822.6\n",
       "Df Model:                                     4                                         \n",
       "Covariance Type:                      nonrobust                                         \n",
       "================================================================================\n",
       "                   coef    std err          t      P>|t|      [0.025      0.975]\n",
       "--------------------------------------------------------------------------------\n",
       "one_dollar     629.8177    720.498      0.874      0.389    -839.648    2099.284\n",
       "two_dollar     172.0327    178.617      0.963      0.343    -192.258     536.323\n",
       "three_dollar   518.6844    504.275      1.029      0.312    -509.791    1547.159\n",
       "four_dollar   -999.0252   2980.146     -0.335      0.740   -7077.074    5079.023\n",
       "==============================================================================\n",
       "Omnibus:                        1.959   Durbin-Watson:                   1.087\n",
       "Prob(Omnibus):                  0.375   Jarque-Bera (JB):                1.798\n",
       "Skew:                           0.469   Prob(JB):                        0.407\n",
       "Kurtosis:                       2.404   Cond. No.                         88.6\n",
       "==============================================================================\n",
       "\n",
       "Warnings:\n",
       "[1] Standard Errors assume that the covariance matrix of the errors is correctly specified.\n",
       "\"\"\""
      ]
     },
     "execution_count": 38,
     "metadata": {},
     "output_type": "execute_result"
    }
   ],
   "source": [
    "#Ran summary stats for Hotel Model predicts - 4/4 extremely high P-values shows that we are failing to reject the null hypothesis that there is no statistically significant effect of our X variables on Neighborhood Affluence\n",
    "hotel_model_sum = sm.OLS(y_train_h, X_train_h).fit()\n",
    "\n",
    "# Print out the statistics\n",
    "hotel_model_sum.summary()"
   ]
  },
  {
   "cell_type": "markdown",
   "metadata": {},
   "source": [
    "### 5. Nightlife Yelp Category "
   ]
  },
  {
   "cell_type": "code",
   "execution_count": 39,
   "metadata": {},
   "outputs": [
    {
     "name": "stdout",
     "output_type": "stream",
     "text": [
      "0.08240491267421413\n",
      "-0.016611837388665007\n",
      "[-114.00687339   24.25349933   58.01470025 -464.1089361 ]\n"
     ]
    },
    {
     "data": {
      "text/plain": [
       "Text(0.5, 0, 'Yelp Nightlife')"
      ]
     },
     "execution_count": 39,
     "metadata": {},
     "output_type": "execute_result"
    },
    {
     "data": {
      "image/png": "[encoded data removed]",
      "text/plain": [
       "<Figure size 432x288 with 1 Axes>"
      ]
     },
     "metadata": {
      "needs_background": "light"
     },
     "output_type": "display_data"
    }
   ],
   "source": [
    "#Read in CSV, Set X and Y variables, train/test split, instantiate nightlife models, fit nightlife models\n",
    "nightlife = pd.read_csv('../data/aggregate_nightlife.csv')\n",
    "nightlife_model = LinearRegression()\n",
    "Xn = nightlife[['one_dollar', 'two_dollar', 'three_dollar', 'four_dollar']]\n",
    "yn = nightlife['city_median_household_income']\n",
    "X_train_n, X_test_n, y_train_n, y_test_n = train_test_split(Xn, yn, test_size=0.3)\n",
    "nightlife_model.fit(X_train_n, y_train_n)\n",
    "print(nightlife_model.score(X_train, y_train))\n",
    "y_predict_n = nightlife_model.predict(X_test_n)\n",
    "print(nightlife_model.score(X_test, y_test))\n",
    "print(nightlife_model.coef_)\n",
    "import matplotlib.pyplot as plt\n",
    "plt.scatter(y_predict_n, y_test_n)\n",
    "plt.title('Nightlife vs Median Household Income')\n",
    "# y label\n",
    "plt.ylabel('Median Household Income')\n",
    "# x label\n",
    "plt.xlabel('Yelp Nightlife')\n",
    "#Evaluated model scores - both weak\n",
    "#Evaluated coefficients - little connection between all 4. "
   ]
  },
  {
   "cell_type": "code",
   "execution_count": 40,
   "metadata": {},
   "outputs": [
    {
     "data": {
      "text/html": [
       "<table class=\"simpletable\">\n",
       "<caption>OLS Regression Results</caption>\n",
       "<tr>\n",
       "  <th>Dep. Variable:</th>    <td>city_median_household_income</td> <th>  R-squared:         </th> <td>   0.778</td>\n",
       "</tr>\n",
       "<tr>\n",
       "  <th>Model:</th>                         <td>OLS</td>             <th>  Adj. R-squared:    </th> <td>   0.749</td>\n",
       "</tr>\n",
       "<tr>\n",
       "  <th>Method:</th>                   <td>Least Squares</td>        <th>  F-statistic:       </th> <td>   27.17</td>\n",
       "</tr>\n",
       "<tr>\n",
       "  <th>Date:</th>                   <td>Thu, 01 Aug 2019</td>       <th>  Prob (F-statistic):</th> <td>9.59e-10</td>\n",
       "</tr>\n",
       "<tr>\n",
       "  <th>Time:</th>                       <td>18:32:09</td>           <th>  Log-Likelihood:    </th> <td> -404.54</td>\n",
       "</tr>\n",
       "<tr>\n",
       "  <th>No. Observations:</th>            <td>    35</td>            <th>  AIC:               </th> <td>   817.1</td>\n",
       "</tr>\n",
       "<tr>\n",
       "  <th>Df Residuals:</th>                <td>    31</td>            <th>  BIC:               </th> <td>   823.3</td>\n",
       "</tr>\n",
       "<tr>\n",
       "  <th>Df Model:</th>                    <td>     4</td>            <th>                     </th>     <td> </td>   \n",
       "</tr>\n",
       "<tr>\n",
       "  <th>Covariance Type:</th>            <td>nonrobust</td>          <th>                     </th>     <td> </td>   \n",
       "</tr>\n",
       "</table>\n",
       "<table class=\"simpletable\">\n",
       "<tr>\n",
       "        <td></td>          <th>coef</th>     <th>std err</th>      <th>t</th>      <th>P>|t|</th>  <th>[0.025</th>    <th>0.975]</th>  \n",
       "</tr>\n",
       "<tr>\n",
       "  <th>one_dollar</th>   <td>  139.4649</td> <td>  127.261</td> <td>    1.096</td> <td> 0.282</td> <td> -120.086</td> <td>  399.016</td>\n",
       "</tr>\n",
       "<tr>\n",
       "  <th>two_dollar</th>   <td>  124.0051</td> <td>   56.718</td> <td>    2.186</td> <td> 0.036</td> <td>    8.329</td> <td>  239.682</td>\n",
       "</tr>\n",
       "<tr>\n",
       "  <th>three_dollar</th> <td>   10.5679</td> <td>  555.726</td> <td>    0.019</td> <td> 0.985</td> <td>-1122.844</td> <td> 1143.979</td>\n",
       "</tr>\n",
       "<tr>\n",
       "  <th>four_dollar</th>  <td>  717.2475</td> <td> 2041.398</td> <td>    0.351</td> <td> 0.728</td> <td>-3446.212</td> <td> 4880.707</td>\n",
       "</tr>\n",
       "</table>\n",
       "<table class=\"simpletable\">\n",
       "<tr>\n",
       "  <th>Omnibus:</th>       <td> 3.079</td> <th>  Durbin-Watson:     </th> <td>   1.870</td>\n",
       "</tr>\n",
       "<tr>\n",
       "  <th>Prob(Omnibus):</th> <td> 0.214</td> <th>  Jarque-Bera (JB):  </th> <td>   2.414</td>\n",
       "</tr>\n",
       "<tr>\n",
       "  <th>Skew:</th>          <td> 0.643</td> <th>  Prob(JB):          </th> <td>   0.299</td>\n",
       "</tr>\n",
       "<tr>\n",
       "  <th>Kurtosis:</th>      <td> 2.974</td> <th>  Cond. No.          </th> <td>    137.</td>\n",
       "</tr>\n",
       "</table><br/><br/>Warnings:<br/>[1] Standard Errors assume that the covariance matrix of the errors is correctly specified."
      ],
      "text/plain": [
       "<class 'statsmodels.iolib.summary.Summary'>\n",
       "\"\"\"\n",
       "                                 OLS Regression Results                                 \n",
       "========================================================================================\n",
       "Dep. Variable:     city_median_household_income   R-squared:                       0.778\n",
       "Model:                                      OLS   Adj. R-squared:                  0.749\n",
       "Method:                           Least Squares   F-statistic:                     27.17\n",
       "Date:                          Thu, 01 Aug 2019   Prob (F-statistic):           9.59e-10\n",
       "Time:                                  18:32:09   Log-Likelihood:                -404.54\n",
       "No. Observations:                            35   AIC:                             817.1\n",
       "Df Residuals:                                31   BIC:                             823.3\n",
       "Df Model:                                     4                                         \n",
       "Covariance Type:                      nonrobust                                         \n",
       "================================================================================\n",
       "                   coef    std err          t      P>|t|      [0.025      0.975]\n",
       "--------------------------------------------------------------------------------\n",
       "one_dollar     139.4649    127.261      1.096      0.282    -120.086     399.016\n",
       "two_dollar     124.0051     56.718      2.186      0.036       8.329     239.682\n",
       "three_dollar    10.5679    555.726      0.019      0.985   -1122.844    1143.979\n",
       "four_dollar    717.2475   2041.398      0.351      0.728   -3446.212    4880.707\n",
       "==============================================================================\n",
       "Omnibus:                        3.079   Durbin-Watson:                   1.870\n",
       "Prob(Omnibus):                  0.214   Jarque-Bera (JB):                2.414\n",
       "Skew:                           0.643   Prob(JB):                        0.299\n",
       "Kurtosis:                       2.974   Cond. No.                         137.\n",
       "==============================================================================\n",
       "\n",
       "Warnings:\n",
       "[1] Standard Errors assume that the covariance matrix of the errors is correctly specified.\n",
       "\"\"\""
      ]
     },
     "execution_count": 40,
     "metadata": {},
     "output_type": "execute_result"
    }
   ],
   "source": [
    "#Ran summary stats for BM predicts - 3/4 extremely high P-values shows that we are failing to reject the null hypothesis that there is no statistically significant effect of our X variables on Neighborhood Affluence\n",
    "nightlife_model_sum = sm.OLS(y_train_n, X_train_n).fit()\n",
    "\n",
    "#Print out the statistics\n",
    "nightlife_model_sum.summary()"
   ]
  },
  {
   "cell_type": "markdown",
   "metadata": {},
   "source": [
    "### 6. Restaurants Yelp Category "
   ]
  },
  {
   "cell_type": "code",
   "execution_count": 41,
   "metadata": {},
   "outputs": [
    {
     "name": "stdout",
     "output_type": "stream",
     "text": [
      "-0.5884759303091252\n",
      "-0.6009970140171925\n",
      "[-118.12136528    6.94140031 -237.27039688  454.3109488 ]\n"
     ]
    },
    {
     "data": {
      "text/plain": [
       "Text(0.5, 0, 'Yelp Restaurants')"
      ]
     },
     "execution_count": 41,
     "metadata": {},
     "output_type": "execute_result"
    },
    {
     "data": {
      "image/png": "[encoded data removed]",
      "text/plain": [
       "<Figure size 432x288 with 1 Axes>"
      ]
     },
     "metadata": {
      "needs_background": "light"
     },
     "output_type": "display_data"
    }
   ],
   "source": [
    "#Read in CSV, Set X and Y variables, train/test split, instantiate restaurants models, fit restaurants models\n",
    "restaurants = pd.read_csv('../data/aggregate_restaurants.csv')\n",
    "restaurants_model = LinearRegression()\n",
    "Xr = restaurants[['one_dollar', 'two_dollar', 'three_dollar', 'four_dollar']]\n",
    "yr = restaurants['city_median_household_income']\n",
    "X_train_r, X_test_r, y_train_r, y_test_r = train_test_split(Xr, yr, test_size=0.3)\n",
    "restaurants_model.fit(X_train_r, y_train_r)\n",
    "print(restaurants_model.score(X_train, y_train))\n",
    "y_predict_r = restaurants_model.predict(X_test_r)\n",
    "print(restaurants_model.score(X_test, y_test))\n",
    "print(restaurants_model.coef_)\n",
    "import matplotlib.pyplot as plt\n",
    "plt.scatter(y_predict_r, y_test_r)\n",
    "plt.title('Restaurants vs Median Household Income')\n",
    "# y label\n",
    "plt.ylabel('Median Household Income')\n",
    "# x label\n",
    "plt.xlabel('Yelp Restaurants')\n",
    "#Evaluated model scores - both weak\n",
    "#Evaluated coefficients - little connection between all 4. "
   ]
  },
  {
   "cell_type": "code",
   "execution_count": 42,
   "metadata": {},
   "outputs": [
    {
     "data": {
      "text/html": [
       "<table class=\"simpletable\">\n",
       "<caption>OLS Regression Results</caption>\n",
       "<tr>\n",
       "  <th>Dep. Variable:</th>    <td>city_median_household_income</td> <th>  R-squared:         </th> <td>   0.923</td>\n",
       "</tr>\n",
       "<tr>\n",
       "  <th>Model:</th>                         <td>OLS</td>             <th>  Adj. R-squared:    </th> <td>   0.913</td>\n",
       "</tr>\n",
       "<tr>\n",
       "  <th>Method:</th>                   <td>Least Squares</td>        <th>  F-statistic:       </th> <td>   92.99</td>\n",
       "</tr>\n",
       "<tr>\n",
       "  <th>Date:</th>                   <td>Thu, 01 Aug 2019</td>       <th>  Prob (F-statistic):</th> <td>8.31e-17</td>\n",
       "</tr>\n",
       "<tr>\n",
       "  <th>Time:</th>                       <td>18:32:17</td>           <th>  Log-Likelihood:    </th> <td> -386.61</td>\n",
       "</tr>\n",
       "<tr>\n",
       "  <th>No. Observations:</th>            <td>    35</td>            <th>  AIC:               </th> <td>   781.2</td>\n",
       "</tr>\n",
       "<tr>\n",
       "  <th>Df Residuals:</th>                <td>    31</td>            <th>  BIC:               </th> <td>   787.4</td>\n",
       "</tr>\n",
       "<tr>\n",
       "  <th>Df Model:</th>                    <td>     4</td>            <th>                     </th>     <td> </td>   \n",
       "</tr>\n",
       "<tr>\n",
       "  <th>Covariance Type:</th>            <td>nonrobust</td>          <th>                     </th>     <td> </td>   \n",
       "</tr>\n",
       "</table>\n",
       "<table class=\"simpletable\">\n",
       "<tr>\n",
       "        <td></td>          <th>coef</th>     <th>std err</th>      <th>t</th>      <th>P>|t|</th>  <th>[0.025</th>    <th>0.975]</th>  \n",
       "</tr>\n",
       "<tr>\n",
       "  <th>one_dollar</th>   <td>  182.7687</td> <td>   53.656</td> <td>    3.406</td> <td> 0.002</td> <td>   73.337</td> <td>  292.201</td>\n",
       "</tr>\n",
       "<tr>\n",
       "  <th>two_dollar</th>   <td>   85.8938</td> <td>   31.956</td> <td>    2.688</td> <td> 0.011</td> <td>   20.719</td> <td>  151.069</td>\n",
       "</tr>\n",
       "<tr>\n",
       "  <th>three_dollar</th> <td>   80.3816</td> <td>  274.584</td> <td>    0.293</td> <td> 0.772</td> <td> -479.637</td> <td>  640.400</td>\n",
       "</tr>\n",
       "<tr>\n",
       "  <th>four_dollar</th>  <td>  519.5108</td> <td>  701.720</td> <td>    0.740</td> <td> 0.465</td> <td> -911.656</td> <td> 1950.678</td>\n",
       "</tr>\n",
       "</table>\n",
       "<table class=\"simpletable\">\n",
       "<tr>\n",
       "  <th>Omnibus:</th>       <td> 1.311</td> <th>  Durbin-Watson:     </th> <td>   1.589</td>\n",
       "</tr>\n",
       "<tr>\n",
       "  <th>Prob(Omnibus):</th> <td> 0.519</td> <th>  Jarque-Bera (JB):  </th> <td>   0.863</td>\n",
       "</tr>\n",
       "<tr>\n",
       "  <th>Skew:</th>          <td> 0.384</td> <th>  Prob(JB):          </th> <td>   0.650</td>\n",
       "</tr>\n",
       "<tr>\n",
       "  <th>Kurtosis:</th>      <td> 2.984</td> <th>  Cond. No.          </th> <td>    95.5</td>\n",
       "</tr>\n",
       "</table><br/><br/>Warnings:<br/>[1] Standard Errors assume that the covariance matrix of the errors is correctly specified."
      ],
      "text/plain": [
       "<class 'statsmodels.iolib.summary.Summary'>\n",
       "\"\"\"\n",
       "                                 OLS Regression Results                                 \n",
       "========================================================================================\n",
       "Dep. Variable:     city_median_household_income   R-squared:                       0.923\n",
       "Model:                                      OLS   Adj. R-squared:                  0.913\n",
       "Method:                           Least Squares   F-statistic:                     92.99\n",
       "Date:                          Thu, 01 Aug 2019   Prob (F-statistic):           8.31e-17\n",
       "Time:                                  18:32:17   Log-Likelihood:                -386.61\n",
       "No. Observations:                            35   AIC:                             781.2\n",
       "Df Residuals:                                31   BIC:                             787.4\n",
       "Df Model:                                     4                                         \n",
       "Covariance Type:                      nonrobust                                         \n",
       "================================================================================\n",
       "                   coef    std err          t      P>|t|      [0.025      0.975]\n",
       "--------------------------------------------------------------------------------\n",
       "one_dollar     182.7687     53.656      3.406      0.002      73.337     292.201\n",
       "two_dollar      85.8938     31.956      2.688      0.011      20.719     151.069\n",
       "three_dollar    80.3816    274.584      0.293      0.772    -479.637     640.400\n",
       "four_dollar    519.5108    701.720      0.740      0.465    -911.656    1950.678\n",
       "==============================================================================\n",
       "Omnibus:                        1.311   Durbin-Watson:                   1.589\n",
       "Prob(Omnibus):                  0.519   Jarque-Bera (JB):                0.863\n",
       "Skew:                           0.384   Prob(JB):                        0.650\n",
       "Kurtosis:                       2.984   Cond. No.                         95.5\n",
       "==============================================================================\n",
       "\n",
       "Warnings:\n",
       "[1] Standard Errors assume that the covariance matrix of the errors is correctly specified.\n",
       "\"\"\""
      ]
     },
     "execution_count": 42,
     "metadata": {},
     "output_type": "execute_result"
    }
   ],
   "source": [
    "#Ran summary stats for BM predicts - 2/4 extremely high P-values shows that we are failing to reject the null hypothesis that there is no statistically significant effect of our X variables on Neighborhood Affluence\n",
    "restaurant_model_sum = sm.OLS(y_train_r, X_train_r).fit()\n",
    "\n",
    "# Print out the statistics\n",
    "restaurant_model_sum.summary()"
   ]
  },
  {
   "cell_type": "markdown",
   "metadata": {},
   "source": [
    "### 7. Shopping Yelp Category "
   ]
  },
  {
   "cell_type": "code",
   "execution_count": 43,
   "metadata": {},
   "outputs": [
    {
     "name": "stdout",
     "output_type": "stream",
     "text": [
      "0.008769929732016846\n",
      "0.04893940548252318\n",
      "[-134.96627121   53.74439849   44.35002661  168.09406139]\n"
     ]
    },
    {
     "data": {
      "text/plain": [
       "Text(0.5, 0, 'Yelp Shopping')"
      ]
     },
     "execution_count": 43,
     "metadata": {},
     "output_type": "execute_result"
    },
    {
     "data": {
      "image/png": "[encoded data removed]",
      "text/plain": [
       "<Figure size 432x288 with 1 Axes>"
      ]
     },
     "metadata": {
      "needs_background": "light"
     },
     "output_type": "display_data"
    }
   ],
   "source": [
    "#Read in CSV, Set X and Y variables, train/test split, instantiate shopping models, fit shopping models\n",
    "shopping = pd.read_csv('../data/aggregate_shopping.csv')\n",
    "shopping_model = LinearRegression()\n",
    "Xs = shopping[['one_dollar', 'two_dollar', 'three_dollar', 'four_dollar']]\n",
    "ys = shopping['city_median_household_income']\n",
    "X_train_s, X_test_s, y_train_s, y_test_s = train_test_split(Xs, ys, test_size=0.3)\n",
    "shopping_model.fit(X_train_s, y_train_s)\n",
    "print(shopping_model.score(X_train, y_train))\n",
    "y_predict_s = shopping_model.predict(X_test_s)\n",
    "print(shopping_model.score(X_test, y_test))\n",
    "print(shopping_model.coef_)\n",
    "import matplotlib.pyplot as plt\n",
    "plt.scatter(y_predict_s, y_test_s)\n",
    "plt.title('Shopping vs Median Household Income')\n",
    "# y label\n",
    "plt.ylabel('Median Household Income')\n",
    "# x label\n",
    "plt.xlabel('Yelp Shopping')\n",
    "#Evaluated model scores - both weak\n",
    "#Evaluated coefficients - little connection between all 4. "
   ]
  },
  {
   "cell_type": "code",
   "execution_count": 44,
   "metadata": {},
   "outputs": [
    {
     "data": {
      "text/html": [
       "<table class=\"simpletable\">\n",
       "<caption>OLS Regression Results</caption>\n",
       "<tr>\n",
       "  <th>Dep. Variable:</th>    <td>city_median_household_income</td> <th>  R-squared:         </th> <td>   0.887</td>\n",
       "</tr>\n",
       "<tr>\n",
       "  <th>Model:</th>                         <td>OLS</td>             <th>  Adj. R-squared:    </th> <td>   0.877</td>\n",
       "</tr>\n",
       "<tr>\n",
       "  <th>Method:</th>                   <td>Least Squares</td>        <th>  F-statistic:       </th> <td>   91.84</td>\n",
       "</tr>\n",
       "<tr>\n",
       "  <th>Date:</th>                   <td>Thu, 01 Aug 2019</td>       <th>  Prob (F-statistic):</th> <td>1.33e-21</td>\n",
       "</tr>\n",
       "<tr>\n",
       "  <th>Time:</th>                       <td>18:32:24</td>           <th>  Log-Likelihood:    </th> <td> -571.17</td>\n",
       "</tr>\n",
       "<tr>\n",
       "  <th>No. Observations:</th>            <td>    51</td>            <th>  AIC:               </th> <td>   1150.</td>\n",
       "</tr>\n",
       "<tr>\n",
       "  <th>Df Residuals:</th>                <td>    47</td>            <th>  BIC:               </th> <td>   1158.</td>\n",
       "</tr>\n",
       "<tr>\n",
       "  <th>Df Model:</th>                    <td>     4</td>            <th>                     </th>     <td> </td>   \n",
       "</tr>\n",
       "<tr>\n",
       "  <th>Covariance Type:</th>            <td>nonrobust</td>          <th>                     </th>     <td> </td>   \n",
       "</tr>\n",
       "</table>\n",
       "<table class=\"simpletable\">\n",
       "<tr>\n",
       "        <td></td>          <th>coef</th>     <th>std err</th>      <th>t</th>      <th>P>|t|</th>  <th>[0.025</th>    <th>0.975]</th>  \n",
       "</tr>\n",
       "<tr>\n",
       "  <th>one_dollar</th>   <td>   98.0420</td> <td>  239.143</td> <td>    0.410</td> <td> 0.684</td> <td> -383.052</td> <td>  579.136</td>\n",
       "</tr>\n",
       "<tr>\n",
       "  <th>two_dollar</th>   <td>   62.6888</td> <td>   51.207</td> <td>    1.224</td> <td> 0.227</td> <td>  -40.327</td> <td>  165.705</td>\n",
       "</tr>\n",
       "<tr>\n",
       "  <th>three_dollar</th> <td>  292.6413</td> <td>  183.235</td> <td>    1.597</td> <td> 0.117</td> <td>  -75.980</td> <td>  661.262</td>\n",
       "</tr>\n",
       "<tr>\n",
       "  <th>four_dollar</th>  <td>  502.6143</td> <td>  712.737</td> <td>    0.705</td> <td> 0.484</td> <td> -931.227</td> <td> 1936.455</td>\n",
       "</tr>\n",
       "</table>\n",
       "<table class=\"simpletable\">\n",
       "<tr>\n",
       "  <th>Omnibus:</th>       <td> 3.734</td> <th>  Durbin-Watson:     </th> <td>   2.310</td>\n",
       "</tr>\n",
       "<tr>\n",
       "  <th>Prob(Omnibus):</th> <td> 0.155</td> <th>  Jarque-Bera (JB):  </th> <td>   3.023</td>\n",
       "</tr>\n",
       "<tr>\n",
       "  <th>Skew:</th>          <td> 0.592</td> <th>  Prob(JB):          </th> <td>   0.221</td>\n",
       "</tr>\n",
       "<tr>\n",
       "  <th>Kurtosis:</th>      <td> 3.140</td> <th>  Cond. No.          </th> <td>    83.1</td>\n",
       "</tr>\n",
       "</table><br/><br/>Warnings:<br/>[1] Standard Errors assume that the covariance matrix of the errors is correctly specified."
      ],
      "text/plain": [
       "<class 'statsmodels.iolib.summary.Summary'>\n",
       "\"\"\"\n",
       "                                 OLS Regression Results                                 \n",
       "========================================================================================\n",
       "Dep. Variable:     city_median_household_income   R-squared:                       0.887\n",
       "Model:                                      OLS   Adj. R-squared:                  0.877\n",
       "Method:                           Least Squares   F-statistic:                     91.84\n",
       "Date:                          Thu, 01 Aug 2019   Prob (F-statistic):           1.33e-21\n",
       "Time:                                  18:32:24   Log-Likelihood:                -571.17\n",
       "No. Observations:                            51   AIC:                             1150.\n",
       "Df Residuals:                                47   BIC:                             1158.\n",
       "Df Model:                                     4                                         \n",
       "Covariance Type:                      nonrobust                                         \n",
       "================================================================================\n",
       "                   coef    std err          t      P>|t|      [0.025      0.975]\n",
       "--------------------------------------------------------------------------------\n",
       "one_dollar      98.0420    239.143      0.410      0.684    -383.052     579.136\n",
       "two_dollar      62.6888     51.207      1.224      0.227     -40.327     165.705\n",
       "three_dollar   292.6413    183.235      1.597      0.117     -75.980     661.262\n",
       "four_dollar    502.6143    712.737      0.705      0.484    -931.227    1936.455\n",
       "==============================================================================\n",
       "Omnibus:                        3.734   Durbin-Watson:                   2.310\n",
       "Prob(Omnibus):                  0.155   Jarque-Bera (JB):                3.023\n",
       "Skew:                           0.592   Prob(JB):                        0.221\n",
       "Kurtosis:                       3.140   Cond. No.                         83.1\n",
       "==============================================================================\n",
       "\n",
       "Warnings:\n",
       "[1] Standard Errors assume that the covariance matrix of the errors is correctly specified.\n",
       "\"\"\""
      ]
     },
     "execution_count": 44,
     "metadata": {},
     "output_type": "execute_result"
    }
   ],
   "source": [
    "#Ran summary stats for BM predicts - 4/4 extremely high P-values shows that we are failing to reject the null hypothesis that there is no statistically significant effect of our X variables on Neighborhood Affluenceshopping_model_sum = sm.OLS(ys, Xs).fit()\n",
    "predictions = shopping_model.predict(Xs) # make the predictions by the model\n",
    "\n",
    "# Print out the statistics\n",
    "shopping_model_sum.summary()"
   ]
  }
 ],
 "metadata": {
  "kernelspec": {
   "display_name": "Python 3",
   "language": "python",
   "name": "python3"
  },
  "language_info": {
   "codemirror_mode": {
    "name": "ipython",
    "version": 3
   },
   "file_extension": ".py",
   "mimetype": "text/x-python",
   "name": "python",
   "nbconvert_exporter": "python",
   "pygments_lexer": "ipython3",
   "version": "3.6.8"
  }
 },
 "nbformat": 4,
 "nbformat_minor": 2
}
