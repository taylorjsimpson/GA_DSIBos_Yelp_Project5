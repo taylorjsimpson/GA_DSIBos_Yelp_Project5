{
 "cells": [
  {
   "cell_type": "markdown",
   "metadata": {},
   "source": [
    "# Additional Supervised Learning Modeling"
   ]
  },
  {
   "cell_type": "markdown",
   "metadata": {},
   "source": [
    "## Overview\n",
    "\n",
    "After seeing that the model using Yelp was unable to predict affluency, the decision was made build a model using other types of data.  A number of socio-economic attributes were chosen as features.  The details of which are below.\n",
    "\n",
    "|             |                                                                                                                      |\n",
    "|-------------|----------------------------------------------------------------------------------------------------------------------|\n",
    "| Education   | Percent of the population holding a high school degree or higher and bachelors degrees or higher                     |\n",
    "| Crime       | The rates of property crimes and violent crimes per 100,000 people                                                   |\n",
    "| Home Values | The Zillow index of median home values                                                                               |\n",
    "| Population  | Population of city, population density (person per square miles and land area of the city (square miles of the city) |\n",
    "\n",
    "A linear regression model was used with scaled and unscaled data along with a random forest model.\n",
    "\n",
    "## Contents\n",
    "\n",
    "[1. Adding Other Variables](#1.-Adding-Other-Variables)<br>\n",
    "[2. Correlation of Income with new Variables](#2.-Correlation-of-Income-with-new-Variables)<br>\n",
    "[3. Linear Regression Model](#3.-Linear-Regression-Model)<br>\n",
    "[4. Scaled Data Model](#4.-Scaled-Data-Model)<br>\n",
    "[5. Random Forest Model](#5.-Random-Forest-Model)<br>\n",
    "[6. Conclusions](#6.-Conclusions)"
   ]
  },
  {
   "cell_type": "markdown",
   "metadata": {},
   "source": [
    "### 1. Adding Other Variables"
   ]
  },
  {
   "cell_type": "code",
   "execution_count": 1,
   "metadata": {},
   "outputs": [],
   "source": [
    "import pandas as pd\n",
    "import matplotlib.pyplot as plt\n",
    "import seaborn as sns\n",
    "from sklearn.linear_model import LinearRegression\n",
    "from sklearn.metrics import r2_score\n",
    "import numpy as np\n",
    "from sklearn.preprocessing import StandardScaler\n",
    "from sklearn.ensemble import RandomForestRegressor, ExtraTreesRegressor\n",
    "from sklearn.model_selection import cross_val_score, train_test_split, GridSearchCV\n",
    "import warnings\n",
    "\n",
    "warnings.filterwarnings(\"ignore\")"
   ]
  },
  {
   "cell_type": "markdown",
   "metadata": {},
   "source": [
    "### Reading in and preparing data"
   ]
  },
  {
   "cell_type": "code",
   "execution_count": 2,
   "metadata": {},
   "outputs": [],
   "source": [
    "education = pd.read_csv('../data/education_census.csv').drop(columns=['Id','Id2'])\n",
    "income = pd.read_csv(\"../data/income.csv\")\n",
    "crime = pd.read_csv(\"../data/crime_data.csv\")\n",
    "homes = pd.read_csv(\"../data/zillow_home_index.csv\")\n",
    "population = pd.read_csv(\"../data/population_density.csv\")"
   ]
  },
  {
   "cell_type": "code",
   "execution_count": 3,
   "metadata": {},
   "outputs": [],
   "source": [
    "education[['city','state']] = education['Geography'].str.split(',', expand=True)\n",
    "education['state'] = education['state'].str.strip()\n",
    "education.drop(columns=['Geography'],inplace=True)"
   ]
  },
  {
   "cell_type": "code",
   "execution_count": 4,
   "metadata": {},
   "outputs": [],
   "source": [
    "\n",
    "states = {\"AL\":\"Alabama\",\"AK\":\"Alaska\",\"AZ\":\"Arizona\",\"AR\":\"Arkansas\",\"CA\":\"California\",\"CO\":\"Colorado\",\n",
    "          \"CT\":\"Connecticut\",\"DE\":\"Delaware\",\"FL\":\"Florida\",\"GA\":\"Georgia\",\"HI\":\"Hawaii\",\"ID\":\"Idaho\",\n",
    "          \"IL\":\"Illinois\",\"IN\":\"Indiana\",\"IA\":\"Iowa\",\"KS\":\"Kansas\",\"KY\":\"Kentucky\",\"LA\":\"Louisiana\",\n",
    "          \"ME\":\"Maine\",\"MD\":\"Maryland\",\"MA\":\"Massachusetts\",\"MI\":\"Michigan\",\"MN\":\"Minnesota\",\"MS\":\"Mississippi\",\n",
    "          \"MO\":\"Missouri\",\"MT\":\"Montana\",\"NE\":\"Nebraska\",\"NV\":\"Nevada\",\"NH\":\"New Hampshire\",\"NJ\":\"New Jersey\",\n",
    "          \"NM\":\"New Mexico\",\"NY\":\"New York\",\"NC\":\"North Carolina\",\"ND\":\"North Dakota\",\"OH\":\"Ohio\",\"OK\":\"Oklahoma\",\n",
    "          \"OR\":\"Oregon\",\"PA\":\"Pennsylvania\",\"RI\":\"Rhode Island\",\"SC\":\"South Carolina\",\"SD\":\"South Dakota\",\n",
    "          \"TN\":\"Tennessee\",\"TX\":\"Texas\",\"UT\":\"Utah\",\"VT\":\"Vermont\",\"VA\":\"Virginia\",\"WA\":\"Washington\",\n",
    "          \"WV\":\"West Virginia\",\"WI\":\"Wisconsin\",\"WY\":\"Wyoming\"}\n",
    "\n",
    "inverted_states = dict([[v,k] for k,v in states.items()])\n",
    "\n",
    "abbrev_states = []\n",
    "for i in list(education['state']):\n",
    "    abbrev = inverted_states.get(i)\n",
    "    abbrev_states.append(abbrev)"
   ]
  },
  {
   "cell_type": "code",
   "execution_count": 5,
   "metadata": {},
   "outputs": [],
   "source": [
    "education['abbrev_state'] = abbrev_states"
   ]
  },
  {
   "cell_type": "code",
   "execution_count": 6,
   "metadata": {},
   "outputs": [],
   "source": [
    "education = education[['city','state','abbrev_state','high_school_or_higher','bachelors_or_higher']]"
   ]
  },
  {
   "cell_type": "code",
   "execution_count": 7,
   "metadata": {},
   "outputs": [],
   "source": [
    "education['high_school_or_higher'] = education['high_school_or_higher']/100\n",
    "education['bachelors_or_higher'] = education['bachelors_or_higher']/100"
   ]
  },
  {
   "cell_type": "code",
   "execution_count": 8,
   "metadata": {},
   "outputs": [],
   "source": [
    "crime.drop(columns=['city'],inplace=True)"
   ]
  },
  {
   "cell_type": "code",
   "execution_count": 9,
   "metadata": {},
   "outputs": [],
   "source": [
    "homes.drop(columns=['city_state'],inplace=True)"
   ]
  },
  {
   "cell_type": "code",
   "execution_count": 10,
   "metadata": {},
   "outputs": [],
   "source": [
    "population.drop(columns=['city_state','State'],inplace=True)"
   ]
  },
  {
   "cell_type": "code",
   "execution_count": 11,
   "metadata": {},
   "outputs": [],
   "source": [
    "income = income[['abbrev_state','income']]"
   ]
  },
  {
   "cell_type": "code",
   "execution_count": 12,
   "metadata": {},
   "outputs": [],
   "source": [
    "#Created a function to merge dataframes\n",
    "def merge_new_variable(df,variable):\n",
    "    new_df = pd.merge(df,variable,left_on='abbrev_state',right_on='abbrev_state')\n",
    "    return new_df"
   ]
  },
  {
   "cell_type": "code",
   "execution_count": 13,
   "metadata": {},
   "outputs": [],
   "source": [
    "#Merged dataframes\n",
    "df = merge_new_variable(education,crime)\n",
    "df = merge_new_variable(df,homes)\n",
    "df = merge_new_variable(df,population)\n",
    "df = merge_new_variable(df,income)"
   ]
  },
  {
   "cell_type": "markdown",
   "metadata": {},
   "source": [
    "### 2. Correlation of Income with new Variables"
   ]
  },
  {
   "cell_type": "code",
   "execution_count": 14,
   "metadata": {},
   "outputs": [
    {
     "data": {
      "image/png": "[encoded data removed]",
      "text/plain": [
       "<Figure size 720x576 with 2 Axes>"
      ]
     },
     "metadata": {
      "needs_background": "light"
     },
     "output_type": "display_data"
    }
   ],
   "source": [
    "plt.figure(figsize=(10,8))\n",
    "sns.set(font_scale=1.4)\n",
    "sns.heatmap(df.corr()[['income']].sort_values('income', ascending=False),vmin=-1,cmap='coolwarm',annot=True);"
   ]
  },
  {
   "cell_type": "markdown",
   "metadata": {},
   "source": [
    "### There was not a particularly strong correlation of the features with income"
   ]
  },
  {
   "cell_type": "code",
   "execution_count": 15,
   "metadata": {},
   "outputs": [
    {
     "data": {
      "text/html": [
       "<div>\n",
       "<style scoped>\n",
       "    .dataframe tbody tr th:only-of-type {\n",
       "        vertical-align: middle;\n",
       "    }\n",
       "\n",
       "    .dataframe tbody tr th {\n",
       "        vertical-align: top;\n",
       "    }\n",
       "\n",
       "    .dataframe thead th {\n",
       "        text-align: right;\n",
       "    }\n",
       "</style>\n",
       "<table border=\"1\" class=\"dataframe\">\n",
       "  <thead>\n",
       "    <tr style=\"text-align: right;\">\n",
       "      <th></th>\n",
       "      <th>high_school_or_higher</th>\n",
       "      <th>bachelors_or_higher</th>\n",
       "      <th>violent_crime_per_100k</th>\n",
       "      <th>property_crime_per_100k</th>\n",
       "      <th>home_index</th>\n",
       "      <th>population_density</th>\n",
       "      <th>2016_population</th>\n",
       "      <th>land_area</th>\n",
       "      <th>income</th>\n",
       "    </tr>\n",
       "  </thead>\n",
       "  <tbody>\n",
       "    <tr>\n",
       "      <th>count</th>\n",
       "      <td>50.000000</td>\n",
       "      <td>50.000000</td>\n",
       "      <td>50.000000</td>\n",
       "      <td>50.000000</td>\n",
       "      <td>50.000000</td>\n",
       "      <td>50.000000</td>\n",
       "      <td>5.000000e+01</td>\n",
       "      <td>50.000000</td>\n",
       "      <td>50.000000</td>\n",
       "    </tr>\n",
       "    <tr>\n",
       "      <th>mean</th>\n",
       "      <td>0.871100</td>\n",
       "      <td>0.346600</td>\n",
       "      <td>901.360000</td>\n",
       "      <td>4199.680000</td>\n",
       "      <td>262040.000000</td>\n",
       "      <td>4802.640000</td>\n",
       "      <td>7.642898e+05</td>\n",
       "      <td>208.290000</td>\n",
       "      <td>51774.700000</td>\n",
       "    </tr>\n",
       "    <tr>\n",
       "      <th>std</th>\n",
       "      <td>0.051837</td>\n",
       "      <td>0.097517</td>\n",
       "      <td>461.355313</td>\n",
       "      <td>1674.648138</td>\n",
       "      <td>119679.478404</td>\n",
       "      <td>4723.850292</td>\n",
       "      <td>1.333338e+06</td>\n",
       "      <td>277.068229</td>\n",
       "      <td>11330.305198</td>\n",
       "    </tr>\n",
       "    <tr>\n",
       "      <th>min</th>\n",
       "      <td>0.740000</td>\n",
       "      <td>0.142000</td>\n",
       "      <td>155.000000</td>\n",
       "      <td>1462.000000</td>\n",
       "      <td>91400.000000</td>\n",
       "      <td>175.000000</td>\n",
       "      <td>4.229200e+04</td>\n",
       "      <td>11.000000</td>\n",
       "      <td>28099.000000</td>\n",
       "    </tr>\n",
       "    <tr>\n",
       "      <th>25%</th>\n",
       "      <td>0.842500</td>\n",
       "      <td>0.280750</td>\n",
       "      <td>573.500000</td>\n",
       "      <td>3148.250000</td>\n",
       "      <td>191800.000000</td>\n",
       "      <td>1837.250000</td>\n",
       "      <td>1.828502e+05</td>\n",
       "      <td>54.750000</td>\n",
       "      <td>45291.500000</td>\n",
       "    </tr>\n",
       "    <tr>\n",
       "      <th>50%</th>\n",
       "      <td>0.884500</td>\n",
       "      <td>0.339000</td>\n",
       "      <td>816.000000</td>\n",
       "      <td>3910.500000</td>\n",
       "      <td>231100.000000</td>\n",
       "      <td>3133.500000</td>\n",
       "      <td>4.497860e+05</td>\n",
       "      <td>130.000000</td>\n",
       "      <td>51574.500000</td>\n",
       "    </tr>\n",
       "    <tr>\n",
       "      <th>75%</th>\n",
       "      <td>0.911250</td>\n",
       "      <td>0.399250</td>\n",
       "      <td>1111.250000</td>\n",
       "      <td>4790.750000</td>\n",
       "      <td>291375.000000</td>\n",
       "      <td>6096.500000</td>\n",
       "      <td>6.730868e+05</td>\n",
       "      <td>243.750000</td>\n",
       "      <td>56714.000000</td>\n",
       "    </tr>\n",
       "    <tr>\n",
       "      <th>max</th>\n",
       "      <td>0.944000</td>\n",
       "      <td>0.617000</td>\n",
       "      <td>2047.000000</td>\n",
       "      <td>8598.000000</td>\n",
       "      <td>674600.000000</td>\n",
       "      <td>28211.000000</td>\n",
       "      <td>8.537673e+06</td>\n",
       "      <td>1705.000000</td>\n",
       "      <td>85634.000000</td>\n",
       "    </tr>\n",
       "  </tbody>\n",
       "</table>\n",
       "</div>"
      ],
      "text/plain": [
       "       high_school_or_higher  bachelors_or_higher  violent_crime_per_100k  \\\n",
       "count              50.000000            50.000000               50.000000   \n",
       "mean                0.871100             0.346600              901.360000   \n",
       "std                 0.051837             0.097517              461.355313   \n",
       "min                 0.740000             0.142000              155.000000   \n",
       "25%                 0.842500             0.280750              573.500000   \n",
       "50%                 0.884500             0.339000              816.000000   \n",
       "75%                 0.911250             0.399250             1111.250000   \n",
       "max                 0.944000             0.617000             2047.000000   \n",
       "\n",
       "       property_crime_per_100k     home_index  population_density  \\\n",
       "count                50.000000      50.000000           50.000000   \n",
       "mean               4199.680000  262040.000000         4802.640000   \n",
       "std                1674.648138  119679.478404         4723.850292   \n",
       "min                1462.000000   91400.000000          175.000000   \n",
       "25%                3148.250000  191800.000000         1837.250000   \n",
       "50%                3910.500000  231100.000000         3133.500000   \n",
       "75%                4790.750000  291375.000000         6096.500000   \n",
       "max                8598.000000  674600.000000        28211.000000   \n",
       "\n",
       "       2016_population    land_area        income  \n",
       "count     5.000000e+01    50.000000     50.000000  \n",
       "mean      7.642898e+05   208.290000  51774.700000  \n",
       "std       1.333338e+06   277.068229  11330.305198  \n",
       "min       4.229200e+04    11.000000  28099.000000  \n",
       "25%       1.828502e+05    54.750000  45291.500000  \n",
       "50%       4.497860e+05   130.000000  51574.500000  \n",
       "75%       6.730868e+05   243.750000  56714.000000  \n",
       "max       8.537673e+06  1705.000000  85634.000000  "
      ]
     },
     "execution_count": 15,
     "metadata": {},
     "output_type": "execute_result"
    }
   ],
   "source": [
    "df.describe()"
   ]
  },
  {
   "cell_type": "markdown",
   "metadata": {},
   "source": [
    "### 3. Linear Regression Model"
   ]
  },
  {
   "cell_type": "code",
   "execution_count": 16,
   "metadata": {},
   "outputs": [],
   "source": [
    "#Instantiate model\n",
    "lr = LinearRegression()"
   ]
  },
  {
   "cell_type": "code",
   "execution_count": 17,
   "metadata": {},
   "outputs": [],
   "source": [
    "#Create features and assign X and y\n",
    "features = ['high_school_or_higher','bachelors_or_higher','violent_crime_per_100k', 'property_crime_per_100k',\n",
    "            'home_index','2016_population','population_density','land_area']\n",
    "X = df[features]\n",
    "y = df['income']"
   ]
  },
  {
   "cell_type": "code",
   "execution_count": 18,
   "metadata": {},
   "outputs": [],
   "source": [
    "# Train/test split the data.\n",
    "X_train, X_test, y_train, y_test = train_test_split(X,\n",
    "                                                    y,\n",
    "                                                    test_size = 0.25, random_state=42)"
   ]
  },
  {
   "cell_type": "code",
   "execution_count": 19,
   "metadata": {},
   "outputs": [
    {
     "data": {
      "text/plain": [
       "LinearRegression(copy_X=True, fit_intercept=True, n_jobs=None, normalize=False)"
      ]
     },
     "execution_count": 19,
     "metadata": {},
     "output_type": "execute_result"
    }
   ],
   "source": [
    "#Fit the model\n",
    "lr.fit(X_train,y_train)"
   ]
  },
  {
   "cell_type": "code",
   "execution_count": 20,
   "metadata": {},
   "outputs": [
    {
     "name": "stdout",
     "output_type": "stream",
     "text": [
      "Training Score: 0.8609.\n"
     ]
    }
   ],
   "source": [
    "# Score on training set.\n",
    "print(f'Training Score: {round(r2_score(y_train,lr.predict(X_train)),4)}.')"
   ]
  },
  {
   "cell_type": "code",
   "execution_count": 21,
   "metadata": {},
   "outputs": [
    {
     "name": "stdout",
     "output_type": "stream",
     "text": [
      "Test Score: 0.3832.\n"
     ]
    }
   ],
   "source": [
    "# Score on testing set.\n",
    "print(f'Test Score: {round(r2_score(y_test,lr.predict(X_test)),4)}.')"
   ]
  },
  {
   "cell_type": "code",
   "execution_count": 22,
   "metadata": {},
   "outputs": [
    {
     "data": {
      "text/plain": [
       "array([ 1.13190592e+05,  2.02513931e+04, -3.65627646e+00, -1.13471396e-01,\n",
       "        3.95682891e-02, -1.20342184e-03,  3.52437314e-01,  1.71125321e+01])"
      ]
     },
     "execution_count": 22,
     "metadata": {},
     "output_type": "execute_result"
    }
   ],
   "source": [
    "lr.coef_"
   ]
  },
  {
   "cell_type": "code",
   "execution_count": 23,
   "metadata": {},
   "outputs": [
    {
     "data": {
      "text/plain": [
       "-64548.869949551"
      ]
     },
     "execution_count": 23,
     "metadata": {},
     "output_type": "execute_result"
    }
   ],
   "source": [
    "lr.intercept_"
   ]
  },
  {
   "cell_type": "code",
   "execution_count": 24,
   "metadata": {},
   "outputs": [],
   "source": [
    "preds = lr.predict(X_test)"
   ]
  },
  {
   "cell_type": "code",
   "execution_count": 38,
   "metadata": {},
   "outputs": [
    {
     "data": {
      "image/png": "[encoded data removed]",
      "text/plain": [
       "<Figure size 864x576 with 1 Axes>"
      ]
     },
     "metadata": {},
     "output_type": "display_data"
    }
   ],
   "source": [
    "#Plot residuals\n",
    "plt.figure(figsize = (12,8))\n",
    "plt.style.use('seaborn-whitegrid')\n",
    "plt.scatter(preds,y_test,c='navy',s=90);\n",
    "plt.plot((np.min(preds), np.max(preds)),\n",
    "        (np.mean(y_test), np.mean(y_test)),\n",
    "       color='r',linewidth=8);\n",
    "\n",
    "plt.title(\"Residuals\",fontsize=25)\n",
    "plt.xlabel(\"Predicted Median Income\",fontsize=20)\n",
    "plt.ylabel(\"Actual Median Income\",fontsize=20);\n",
    "plt.xticks(fontsize=20)\n",
    "plt.yticks(fontsize=20);"
   ]
  },
  {
   "cell_type": "markdown",
   "metadata": {},
   "source": [
    "## 4. Scaled Data Model"
   ]
  },
  {
   "cell_type": "code",
   "execution_count": 39,
   "metadata": {},
   "outputs": [],
   "source": [
    "#Scale the data\n",
    "ss = StandardScaler()\n",
    "X_train_ss = ss.fit_transform(X_train)\n",
    "X_test_ss = ss.fit_transform(X_test)"
   ]
  },
  {
   "cell_type": "code",
   "execution_count": 40,
   "metadata": {},
   "outputs": [
    {
     "data": {
      "text/plain": [
       "LinearRegression(copy_X=True, fit_intercept=True, n_jobs=None, normalize=False)"
      ]
     },
     "execution_count": 40,
     "metadata": {},
     "output_type": "execute_result"
    }
   ],
   "source": [
    "#Fit the model\n",
    "lr.fit(X_train_ss,y_train)"
   ]
  },
  {
   "cell_type": "code",
   "execution_count": 41,
   "metadata": {},
   "outputs": [
    {
     "data": {
      "text/plain": [
       "array([ 5965.23990285,  2111.68660768, -1711.76868676,  -182.02333502,\n",
       "        4808.25508993,  -873.32370511,  1030.07149907,  5261.88628321])"
      ]
     },
     "execution_count": 41,
     "metadata": {},
     "output_type": "execute_result"
    }
   ],
   "source": [
    "lr.coef_"
   ]
  },
  {
   "cell_type": "code",
   "execution_count": 42,
   "metadata": {},
   "outputs": [
    {
     "data": {
      "text/plain": [
       "52278.40540540539"
      ]
     },
     "execution_count": 42,
     "metadata": {},
     "output_type": "execute_result"
    }
   ],
   "source": [
    "lr.intercept_"
   ]
  },
  {
   "cell_type": "code",
   "execution_count": 43,
   "metadata": {},
   "outputs": [
    {
     "name": "stdout",
     "output_type": "stream",
     "text": [
      "Training Score: 0.8609.\n"
     ]
    }
   ],
   "source": [
    "print(f'Training Score: {round(r2_score(y_train,lr.predict(X_train_ss)),4)}.')"
   ]
  },
  {
   "cell_type": "code",
   "execution_count": 44,
   "metadata": {},
   "outputs": [
    {
     "name": "stdout",
     "output_type": "stream",
     "text": [
      "Test Score: 0.0319.\n"
     ]
    }
   ],
   "source": [
    "print(f'Test Score: {round(r2_score(y_test,lr.predict(X_test_ss)),4)}.')"
   ]
  },
  {
   "cell_type": "code",
   "execution_count": 45,
   "metadata": {},
   "outputs": [],
   "source": [
    "preds_ss = lr.predict(X_test_ss)"
   ]
  },
  {
   "cell_type": "code",
   "execution_count": 46,
   "metadata": {},
   "outputs": [
    {
     "data": {
      "image/png": "[encoded data removed]",
      "text/plain": [
       "<Figure size 864x576 with 1 Axes>"
      ]
     },
     "metadata": {},
     "output_type": "display_data"
    }
   ],
   "source": [
    "#Plot residuals\n",
    "plt.figure(figsize = (12,8))\n",
    "plt.style.use('seaborn-whitegrid')\n",
    "plt.scatter(preds_ss,y_test,c='navy',s=90);\n",
    "plt.plot((np.min(preds_ss), np.max(preds_ss)),\n",
    "        (np.mean(y_test), np.mean(y_test)),\n",
    "       color='r',linewidth=8);\n",
    "\n",
    "plt.title(\"Residuals\",fontsize=25)\n",
    "plt.xlabel(\"Predicted Median Income\",fontsize=20)\n",
    "plt.ylabel(\"Actual Median Income\",fontsize=20);\n",
    "plt.xticks(fontsize=20)\n",
    "plt.yticks(fontsize=20);"
   ]
  },
  {
   "cell_type": "markdown",
   "metadata": {},
   "source": [
    "## 5. Random Forest Model"
   ]
  },
  {
   "cell_type": "code",
   "execution_count": 47,
   "metadata": {},
   "outputs": [],
   "source": [
    "rf = RandomForestRegressor()"
   ]
  },
  {
   "cell_type": "code",
   "execution_count": 48,
   "metadata": {},
   "outputs": [],
   "source": [
    "et = ExtraTreesRegressor()"
   ]
  },
  {
   "cell_type": "code",
   "execution_count": 49,
   "metadata": {},
   "outputs": [
    {
     "data": {
      "text/plain": [
       "0.6264892262886343"
      ]
     },
     "execution_count": 49,
     "metadata": {},
     "output_type": "execute_result"
    }
   ],
   "source": [
    "cross_val_score(rf, X_train, y_train, cv=5).mean()"
   ]
  },
  {
   "cell_type": "code",
   "execution_count": 50,
   "metadata": {},
   "outputs": [
    {
     "data": {
      "text/plain": [
       "0.6494991947270912"
      ]
     },
     "execution_count": 50,
     "metadata": {},
     "output_type": "execute_result"
    }
   ],
   "source": [
    "cross_val_score(et, X_train, y_train, cv=5).mean()"
   ]
  },
  {
   "cell_type": "code",
   "execution_count": 51,
   "metadata": {},
   "outputs": [
    {
     "name": "stdout",
     "output_type": "stream",
     "text": [
      "0.6527312254738696\n"
     ]
    },
    {
     "data": {
      "text/plain": [
       "{'max_depth': None, 'n_estimators': 50}"
      ]
     },
     "execution_count": 51,
     "metadata": {},
     "output_type": "execute_result"
    }
   ],
   "source": [
    "rf = RandomForestRegressor()\n",
    "random_state=42\n",
    "rf_params = {\n",
    "    'n_estimators':[50, 100, 150,200],\n",
    "    'max_depth': [None, 2,3,4,5],\n",
    "    \n",
    "}\n",
    "\n",
    "gs = GridSearchCV(rf, param_grid=rf_params, cv=5)\n",
    "gs.fit(X_train, y_train)\n",
    "print (gs.best_score_)\n",
    "gs.best_params_"
   ]
  },
  {
   "cell_type": "code",
   "execution_count": 52,
   "metadata": {},
   "outputs": [
    {
     "data": {
      "text/plain": [
       "0.9450790783891766"
      ]
     },
     "execution_count": 52,
     "metadata": {},
     "output_type": "execute_result"
    }
   ],
   "source": [
    "gs.score(X_train, y_train)"
   ]
  },
  {
   "cell_type": "code",
   "execution_count": 53,
   "metadata": {},
   "outputs": [
    {
     "data": {
      "text/plain": [
       "-1.0817012406871105"
      ]
     },
     "execution_count": 53,
     "metadata": {},
     "output_type": "execute_result"
    }
   ],
   "source": [
    "gs.score(X_test, y_test)"
   ]
  },
  {
   "cell_type": "code",
   "execution_count": 54,
   "metadata": {},
   "outputs": [],
   "source": [
    "preds_gs = gs.predict(X_test)"
   ]
  },
  {
   "cell_type": "code",
   "execution_count": 55,
   "metadata": {},
   "outputs": [
    {
     "data": {
      "image/png": "[encoded data removed]",
      "text/plain": [
       "<Figure size 864x576 with 1 Axes>"
      ]
     },
     "metadata": {},
     "output_type": "display_data"
    }
   ],
   "source": [
    "#Plot residuals\n",
    "plt.figure(figsize = (12,8))\n",
    "plt.style.use('seaborn-whitegrid')\n",
    "plt.scatter(preds_gs,y_test,c='navy',s=90);\n",
    "plt.plot((np.min(preds_gs), np.max(preds_gs)),\n",
    "        (np.mean(y_test), np.mean(y_test)),\n",
    "       color='r',linewidth=8);\n",
    "\n",
    "\n",
    "\n",
    "plt.title(\"Residuals\",fontsize=25)\n",
    "plt.xlabel(\"Predicted Median Income\",fontsize=20)\n",
    "plt.ylabel(\"Actual Median Income\",fontsize=20);\n",
    "plt.xticks(fontsize=20)\n",
    "plt.yticks(fontsize=20);"
   ]
  },
  {
   "cell_type": "markdown",
   "metadata": {},
   "source": [
    "## 6. Conclusions\n",
    "\n",
    "All of the models were overfit and not very predictive.  This is attributed to the small number of observations in the dataset.  Future work should be done with additional observations and a wider set of features."
   ]
  },
  {
   "cell_type": "code",
   "execution_count": null,
   "metadata": {},
   "outputs": [],
   "source": []
  }
 ],
 "metadata": {
  "kernelspec": {
   "display_name": "Python 3",
   "language": "python",
   "name": "python3"
  },
  "language_info": {
   "codemirror_mode": {
    "name": "ipython",
    "version": 3
   },
   "file_extension": ".py",
   "mimetype": "text/x-python",
   "name": "python",
   "nbconvert_exporter": "python",
   "pygments_lexer": "ipython3",
   "version": "3.7.3"
  }
 },
 "nbformat": 4,
 "nbformat_minor": 2
}
